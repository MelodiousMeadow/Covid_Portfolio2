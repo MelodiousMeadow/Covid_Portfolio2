{
 "cells": [
  {
   "cell_type": "markdown",
   "metadata": {},
   "source": [
    "## Covid-19 Data Project Overview:\n"
   ]
  },
  {
   "cell_type": "markdown",
   "metadata": {},
   "source": [
    "The Covid-19 Pandemic had a profound worldwide impact, leading to extensive loss of life and significant disruptions to people's daily lives. It is essential to analyze Covid-19 data to anticipate potential outcomes in future pandemics and evaluate the genuine effectiveness of vaccines in protecting human lives. Utilizing data analysis can provide valuable insights into this critical phenomenon. In the following sections, we will apply these analytical skills for this purpose. It's important to emphasize that these datasets have been anonymized to ensure that the privacy of individuals is respected."
   ]
  },
  {
   "cell_type": "markdown",
   "metadata": {},
   "source": [
    "### Essential information we can derive from global Covid-19 data:\n",
    "\n",
    "* Exploring the available information\n",
    "* Preparing data for analysis\n",
    "* Assessing the number of Covid-19 cases by country\n",
    "* Determining the proportion of fully vaccinated individuals in each continent\n",
    "* Evaluating the effects of vaccination "
   ]
  },
  {
   "cell_type": "markdown",
   "metadata": {},
   "source": [
    "### Analyzing Covid-19 Data Using Python \n",
    "\n",
    "I utilized a Covid-19 dataset sourced from the `Our World in Data Organization`. This dataset receives regular updates, ensuring that we have access to up-to-date information for our analysis."
   ]
  },
  {
   "cell_type": "markdown",
   "metadata": {},
   "source": [
    "**Analyzing the data sets:**\n"
   ]
  },
  {
   "cell_type": "code",
   "execution_count": 7,
   "metadata": {
    "_cell_guid": "b1076dfc-b9ad-4769-8c92-a6c4dae69d19",
    "_uuid": "8f2839f25d086af736a60e9eeb907d3b93b6e0e5",
    "execution": {
     "iopub.execute_input": "2023-09-08T14:20:09.074861Z",
     "iopub.status.busy": "2023-09-08T14:20:09.072950Z",
     "iopub.status.idle": "2023-09-08T14:20:12.079368Z",
     "shell.execute_reply": "2023-09-08T14:20:12.078137Z",
     "shell.execute_reply.started": "2023-09-08T14:20:09.074778Z"
    }
   },
   "outputs": [],
   "source": [
    "import numpy as np \n",
    "import pandas as pd \n",
    "import matplotlib as plt\n",
    "from matplotlib.animation import FuncAnimation\n",
    "import seaborn as sns\n",
    "import matplotlib.pyplot as plt\n",
    "import matplotlib.ticker as mticker\n",
    "# from sklearn.model_selection import train_test_split\n",
    "# from sklearn.linear_model import LinearRegression \n",
    "# from sklearn.metrics import mean_squared_error\n",
    "# from sklearn.ensemble import GradientBoostingRegressor\n",
    "\n",
    "\n",
    "import os\n",
    "for dirname, _, filenames in os.walk('/kaggle/input'):\n",
    "    for filename in filenames:\n",
    "        print(os.path.join(dirname, filename))\n",
    "\n",
    "df_d = pd.read_csv('/Users/zoewalp/Desktop/DataScienceDataSets/CovidDeaths1a.csv')\n",
    "df_v = pd.read_csv('/Users/zoewalp/Desktop/DataScienceDataSets/CovidVaccinations1a.csv')\n"
   ]
  },
  {
   "cell_type": "markdown",
   "metadata": {},
   "source": [
    "**Looking at each data table:**"
   ]
  },
  {
   "cell_type": "code",
   "execution_count": 8,
   "metadata": {
    "execution": {
     "iopub.execute_input": "2023-09-08T14:20:12.082749Z",
     "iopub.status.busy": "2023-09-08T14:20:12.082284Z",
     "iopub.status.idle": "2023-09-08T14:20:12.114324Z",
     "shell.execute_reply": "2023-09-08T14:20:12.113032Z",
     "shell.execute_reply.started": "2023-09-08T14:20:12.082711Z"
    }
   },
   "outputs": [
    {
     "data": {
      "text/html": [
       "<div>\n",
       "<style scoped>\n",
       "    .dataframe tbody tr th:only-of-type {\n",
       "        vertical-align: middle;\n",
       "    }\n",
       "\n",
       "    .dataframe tbody tr th {\n",
       "        vertical-align: top;\n",
       "    }\n",
       "\n",
       "    .dataframe thead th {\n",
       "        text-align: right;\n",
       "    }\n",
       "</style>\n",
       "<table border=\"1\" class=\"dataframe\">\n",
       "  <thead>\n",
       "    <tr style=\"text-align: right;\">\n",
       "      <th></th>\n",
       "      <th>iso_code</th>\n",
       "      <th>continent</th>\n",
       "      <th>location</th>\n",
       "      <th>date</th>\n",
       "      <th>population</th>\n",
       "      <th>total_cases</th>\n",
       "      <th>new_cases</th>\n",
       "      <th>new_cases_smoothed</th>\n",
       "      <th>total_deaths</th>\n",
       "      <th>new_deaths</th>\n",
       "      <th>...</th>\n",
       "      <th>new_deaths_smoothed_per_million</th>\n",
       "      <th>reproduction_rate</th>\n",
       "      <th>icu_patients</th>\n",
       "      <th>icu_patients_per_million</th>\n",
       "      <th>hosp_patients</th>\n",
       "      <th>hosp_patients_per_million</th>\n",
       "      <th>weekly_icu_admissions</th>\n",
       "      <th>weekly_icu_admissions_per_million</th>\n",
       "      <th>weekly_hosp_admissions</th>\n",
       "      <th>weekly_hosp_admissions_per_million</th>\n",
       "    </tr>\n",
       "  </thead>\n",
       "  <tbody>\n",
       "    <tr>\n",
       "      <th>0</th>\n",
       "      <td>AFG</td>\n",
       "      <td>Asia</td>\n",
       "      <td>Afghanistan</td>\n",
       "      <td>2020-01-03</td>\n",
       "      <td>41128772.0</td>\n",
       "      <td>NaN</td>\n",
       "      <td>0.0</td>\n",
       "      <td>NaN</td>\n",
       "      <td>NaN</td>\n",
       "      <td>0.0</td>\n",
       "      <td>...</td>\n",
       "      <td>NaN</td>\n",
       "      <td>NaN</td>\n",
       "      <td>NaN</td>\n",
       "      <td>NaN</td>\n",
       "      <td>NaN</td>\n",
       "      <td>NaN</td>\n",
       "      <td>NaN</td>\n",
       "      <td>NaN</td>\n",
       "      <td>NaN</td>\n",
       "      <td>NaN</td>\n",
       "    </tr>\n",
       "    <tr>\n",
       "      <th>1</th>\n",
       "      <td>AFG</td>\n",
       "      <td>Asia</td>\n",
       "      <td>Afghanistan</td>\n",
       "      <td>2020-01-04</td>\n",
       "      <td>41128772.0</td>\n",
       "      <td>NaN</td>\n",
       "      <td>0.0</td>\n",
       "      <td>NaN</td>\n",
       "      <td>NaN</td>\n",
       "      <td>0.0</td>\n",
       "      <td>...</td>\n",
       "      <td>NaN</td>\n",
       "      <td>NaN</td>\n",
       "      <td>NaN</td>\n",
       "      <td>NaN</td>\n",
       "      <td>NaN</td>\n",
       "      <td>NaN</td>\n",
       "      <td>NaN</td>\n",
       "      <td>NaN</td>\n",
       "      <td>NaN</td>\n",
       "      <td>NaN</td>\n",
       "    </tr>\n",
       "    <tr>\n",
       "      <th>2</th>\n",
       "      <td>AFG</td>\n",
       "      <td>Asia</td>\n",
       "      <td>Afghanistan</td>\n",
       "      <td>2020-01-05</td>\n",
       "      <td>41128772.0</td>\n",
       "      <td>NaN</td>\n",
       "      <td>0.0</td>\n",
       "      <td>NaN</td>\n",
       "      <td>NaN</td>\n",
       "      <td>0.0</td>\n",
       "      <td>...</td>\n",
       "      <td>NaN</td>\n",
       "      <td>NaN</td>\n",
       "      <td>NaN</td>\n",
       "      <td>NaN</td>\n",
       "      <td>NaN</td>\n",
       "      <td>NaN</td>\n",
       "      <td>NaN</td>\n",
       "      <td>NaN</td>\n",
       "      <td>NaN</td>\n",
       "      <td>NaN</td>\n",
       "    </tr>\n",
       "    <tr>\n",
       "      <th>3</th>\n",
       "      <td>AFG</td>\n",
       "      <td>Asia</td>\n",
       "      <td>Afghanistan</td>\n",
       "      <td>2020-01-06</td>\n",
       "      <td>41128772.0</td>\n",
       "      <td>NaN</td>\n",
       "      <td>0.0</td>\n",
       "      <td>NaN</td>\n",
       "      <td>NaN</td>\n",
       "      <td>0.0</td>\n",
       "      <td>...</td>\n",
       "      <td>NaN</td>\n",
       "      <td>NaN</td>\n",
       "      <td>NaN</td>\n",
       "      <td>NaN</td>\n",
       "      <td>NaN</td>\n",
       "      <td>NaN</td>\n",
       "      <td>NaN</td>\n",
       "      <td>NaN</td>\n",
       "      <td>NaN</td>\n",
       "      <td>NaN</td>\n",
       "    </tr>\n",
       "    <tr>\n",
       "      <th>4</th>\n",
       "      <td>AFG</td>\n",
       "      <td>Asia</td>\n",
       "      <td>Afghanistan</td>\n",
       "      <td>2020-01-07</td>\n",
       "      <td>41128772.0</td>\n",
       "      <td>NaN</td>\n",
       "      <td>0.0</td>\n",
       "      <td>NaN</td>\n",
       "      <td>NaN</td>\n",
       "      <td>0.0</td>\n",
       "      <td>...</td>\n",
       "      <td>NaN</td>\n",
       "      <td>NaN</td>\n",
       "      <td>NaN</td>\n",
       "      <td>NaN</td>\n",
       "      <td>NaN</td>\n",
       "      <td>NaN</td>\n",
       "      <td>NaN</td>\n",
       "      <td>NaN</td>\n",
       "      <td>NaN</td>\n",
       "      <td>NaN</td>\n",
       "    </tr>\n",
       "  </tbody>\n",
       "</table>\n",
       "<p>5 rows × 26 columns</p>\n",
       "</div>"
      ],
      "text/plain": [
       "  iso_code continent     location        date  population  total_cases  \\\n",
       "0      AFG      Asia  Afghanistan  2020-01-03  41128772.0          NaN   \n",
       "1      AFG      Asia  Afghanistan  2020-01-04  41128772.0          NaN   \n",
       "2      AFG      Asia  Afghanistan  2020-01-05  41128772.0          NaN   \n",
       "3      AFG      Asia  Afghanistan  2020-01-06  41128772.0          NaN   \n",
       "4      AFG      Asia  Afghanistan  2020-01-07  41128772.0          NaN   \n",
       "\n",
       "   new_cases  new_cases_smoothed  total_deaths  new_deaths  ...  \\\n",
       "0        0.0                 NaN           NaN         0.0  ...   \n",
       "1        0.0                 NaN           NaN         0.0  ...   \n",
       "2        0.0                 NaN           NaN         0.0  ...   \n",
       "3        0.0                 NaN           NaN         0.0  ...   \n",
       "4        0.0                 NaN           NaN         0.0  ...   \n",
       "\n",
       "   new_deaths_smoothed_per_million  reproduction_rate  icu_patients  \\\n",
       "0                              NaN                NaN           NaN   \n",
       "1                              NaN                NaN           NaN   \n",
       "2                              NaN                NaN           NaN   \n",
       "3                              NaN                NaN           NaN   \n",
       "4                              NaN                NaN           NaN   \n",
       "\n",
       "   icu_patients_per_million  hosp_patients  hosp_patients_per_million  \\\n",
       "0                       NaN            NaN                        NaN   \n",
       "1                       NaN            NaN                        NaN   \n",
       "2                       NaN            NaN                        NaN   \n",
       "3                       NaN            NaN                        NaN   \n",
       "4                       NaN            NaN                        NaN   \n",
       "\n",
       "   weekly_icu_admissions  weekly_icu_admissions_per_million  \\\n",
       "0                    NaN                                NaN   \n",
       "1                    NaN                                NaN   \n",
       "2                    NaN                                NaN   \n",
       "3                    NaN                                NaN   \n",
       "4                    NaN                                NaN   \n",
       "\n",
       "   weekly_hosp_admissions  weekly_hosp_admissions_per_million  \n",
       "0                     NaN                                 NaN  \n",
       "1                     NaN                                 NaN  \n",
       "2                     NaN                                 NaN  \n",
       "3                     NaN                                 NaN  \n",
       "4                     NaN                                 NaN  \n",
       "\n",
       "[5 rows x 26 columns]"
      ]
     },
     "execution_count": 8,
     "metadata": {},
     "output_type": "execute_result"
    }
   ],
   "source": [
    "df_d.head()\n"
   ]
  },
  {
   "cell_type": "code",
   "execution_count": 9,
   "metadata": {
    "execution": {
     "iopub.execute_input": "2023-09-08T14:20:12.116652Z",
     "iopub.status.busy": "2023-09-08T14:20:12.116131Z",
     "iopub.status.idle": "2023-09-08T14:20:12.147915Z",
     "shell.execute_reply": "2023-09-08T14:20:12.146404Z",
     "shell.execute_reply.started": "2023-09-08T14:20:12.116607Z"
    },
    "scrolled": true
   },
   "outputs": [
    {
     "data": {
      "text/html": [
       "<div>\n",
       "<style scoped>\n",
       "    .dataframe tbody tr th:only-of-type {\n",
       "        vertical-align: middle;\n",
       "    }\n",
       "\n",
       "    .dataframe tbody tr th {\n",
       "        vertical-align: top;\n",
       "    }\n",
       "\n",
       "    .dataframe thead th {\n",
       "        text-align: right;\n",
       "    }\n",
       "</style>\n",
       "<table border=\"1\" class=\"dataframe\">\n",
       "  <thead>\n",
       "    <tr style=\"text-align: right;\">\n",
       "      <th></th>\n",
       "      <th>iso_code</th>\n",
       "      <th>continent</th>\n",
       "      <th>location</th>\n",
       "      <th>date</th>\n",
       "      <th>total_tests</th>\n",
       "      <th>new_tests</th>\n",
       "      <th>total_tests_per_thousand</th>\n",
       "      <th>new_tests_per_thousand</th>\n",
       "      <th>new_tests_smoothed</th>\n",
       "      <th>new_tests_smoothed_per_thousand</th>\n",
       "      <th>...</th>\n",
       "      <th>male_smokers</th>\n",
       "      <th>handwashing_facilities</th>\n",
       "      <th>hospital_beds_per_thousand</th>\n",
       "      <th>life_expectancy</th>\n",
       "      <th>human_development_index</th>\n",
       "      <th>Unnamed: 41</th>\n",
       "      <th>excess_mortality_cumulative_absolute</th>\n",
       "      <th>excess_mortality_cumulative</th>\n",
       "      <th>excess_mortality</th>\n",
       "      <th>excess_mortality_cumulative_per_million</th>\n",
       "    </tr>\n",
       "  </thead>\n",
       "  <tbody>\n",
       "    <tr>\n",
       "      <th>0</th>\n",
       "      <td>AFG</td>\n",
       "      <td>Asia</td>\n",
       "      <td>Afghanistan</td>\n",
       "      <td>2020-01-03</td>\n",
       "      <td>NaN</td>\n",
       "      <td>NaN</td>\n",
       "      <td>NaN</td>\n",
       "      <td>NaN</td>\n",
       "      <td>NaN</td>\n",
       "      <td>NaN</td>\n",
       "      <td>...</td>\n",
       "      <td>NaN</td>\n",
       "      <td>37.746</td>\n",
       "      <td>0.5</td>\n",
       "      <td>64.83</td>\n",
       "      <td>0.511</td>\n",
       "      <td>NaN</td>\n",
       "      <td>NaN</td>\n",
       "      <td>NaN</td>\n",
       "      <td>NaN</td>\n",
       "      <td>NaN</td>\n",
       "    </tr>\n",
       "    <tr>\n",
       "      <th>1</th>\n",
       "      <td>AFG</td>\n",
       "      <td>Asia</td>\n",
       "      <td>Afghanistan</td>\n",
       "      <td>2020-01-04</td>\n",
       "      <td>NaN</td>\n",
       "      <td>NaN</td>\n",
       "      <td>NaN</td>\n",
       "      <td>NaN</td>\n",
       "      <td>NaN</td>\n",
       "      <td>NaN</td>\n",
       "      <td>...</td>\n",
       "      <td>NaN</td>\n",
       "      <td>37.746</td>\n",
       "      <td>0.5</td>\n",
       "      <td>64.83</td>\n",
       "      <td>0.511</td>\n",
       "      <td>NaN</td>\n",
       "      <td>NaN</td>\n",
       "      <td>NaN</td>\n",
       "      <td>NaN</td>\n",
       "      <td>NaN</td>\n",
       "    </tr>\n",
       "    <tr>\n",
       "      <th>2</th>\n",
       "      <td>AFG</td>\n",
       "      <td>Asia</td>\n",
       "      <td>Afghanistan</td>\n",
       "      <td>2020-01-05</td>\n",
       "      <td>NaN</td>\n",
       "      <td>NaN</td>\n",
       "      <td>NaN</td>\n",
       "      <td>NaN</td>\n",
       "      <td>NaN</td>\n",
       "      <td>NaN</td>\n",
       "      <td>...</td>\n",
       "      <td>NaN</td>\n",
       "      <td>37.746</td>\n",
       "      <td>0.5</td>\n",
       "      <td>64.83</td>\n",
       "      <td>0.511</td>\n",
       "      <td>NaN</td>\n",
       "      <td>NaN</td>\n",
       "      <td>NaN</td>\n",
       "      <td>NaN</td>\n",
       "      <td>NaN</td>\n",
       "    </tr>\n",
       "    <tr>\n",
       "      <th>3</th>\n",
       "      <td>AFG</td>\n",
       "      <td>Asia</td>\n",
       "      <td>Afghanistan</td>\n",
       "      <td>2020-01-06</td>\n",
       "      <td>NaN</td>\n",
       "      <td>NaN</td>\n",
       "      <td>NaN</td>\n",
       "      <td>NaN</td>\n",
       "      <td>NaN</td>\n",
       "      <td>NaN</td>\n",
       "      <td>...</td>\n",
       "      <td>NaN</td>\n",
       "      <td>37.746</td>\n",
       "      <td>0.5</td>\n",
       "      <td>64.83</td>\n",
       "      <td>0.511</td>\n",
       "      <td>NaN</td>\n",
       "      <td>NaN</td>\n",
       "      <td>NaN</td>\n",
       "      <td>NaN</td>\n",
       "      <td>NaN</td>\n",
       "    </tr>\n",
       "    <tr>\n",
       "      <th>4</th>\n",
       "      <td>AFG</td>\n",
       "      <td>Asia</td>\n",
       "      <td>Afghanistan</td>\n",
       "      <td>2020-01-07</td>\n",
       "      <td>NaN</td>\n",
       "      <td>NaN</td>\n",
       "      <td>NaN</td>\n",
       "      <td>NaN</td>\n",
       "      <td>NaN</td>\n",
       "      <td>NaN</td>\n",
       "      <td>...</td>\n",
       "      <td>NaN</td>\n",
       "      <td>37.746</td>\n",
       "      <td>0.5</td>\n",
       "      <td>64.83</td>\n",
       "      <td>0.511</td>\n",
       "      <td>NaN</td>\n",
       "      <td>NaN</td>\n",
       "      <td>NaN</td>\n",
       "      <td>NaN</td>\n",
       "      <td>NaN</td>\n",
       "    </tr>\n",
       "  </tbody>\n",
       "</table>\n",
       "<p>5 rows × 46 columns</p>\n",
       "</div>"
      ],
      "text/plain": [
       "  iso_code continent     location        date  total_tests  new_tests  \\\n",
       "0      AFG      Asia  Afghanistan  2020-01-03          NaN        NaN   \n",
       "1      AFG      Asia  Afghanistan  2020-01-04          NaN        NaN   \n",
       "2      AFG      Asia  Afghanistan  2020-01-05          NaN        NaN   \n",
       "3      AFG      Asia  Afghanistan  2020-01-06          NaN        NaN   \n",
       "4      AFG      Asia  Afghanistan  2020-01-07          NaN        NaN   \n",
       "\n",
       "   total_tests_per_thousand  new_tests_per_thousand  new_tests_smoothed  \\\n",
       "0                       NaN                     NaN                 NaN   \n",
       "1                       NaN                     NaN                 NaN   \n",
       "2                       NaN                     NaN                 NaN   \n",
       "3                       NaN                     NaN                 NaN   \n",
       "4                       NaN                     NaN                 NaN   \n",
       "\n",
       "   new_tests_smoothed_per_thousand  ...  male_smokers  handwashing_facilities  \\\n",
       "0                              NaN  ...           NaN                  37.746   \n",
       "1                              NaN  ...           NaN                  37.746   \n",
       "2                              NaN  ...           NaN                  37.746   \n",
       "3                              NaN  ...           NaN                  37.746   \n",
       "4                              NaN  ...           NaN                  37.746   \n",
       "\n",
       "  hospital_beds_per_thousand  life_expectancy  human_development_index  \\\n",
       "0                        0.5            64.83                    0.511   \n",
       "1                        0.5            64.83                    0.511   \n",
       "2                        0.5            64.83                    0.511   \n",
       "3                        0.5            64.83                    0.511   \n",
       "4                        0.5            64.83                    0.511   \n",
       "\n",
       "   Unnamed: 41  excess_mortality_cumulative_absolute  \\\n",
       "0          NaN                                   NaN   \n",
       "1          NaN                                   NaN   \n",
       "2          NaN                                   NaN   \n",
       "3          NaN                                   NaN   \n",
       "4          NaN                                   NaN   \n",
       "\n",
       "   excess_mortality_cumulative  excess_mortality  \\\n",
       "0                          NaN               NaN   \n",
       "1                          NaN               NaN   \n",
       "2                          NaN               NaN   \n",
       "3                          NaN               NaN   \n",
       "4                          NaN               NaN   \n",
       "\n",
       "   excess_mortality_cumulative_per_million  \n",
       "0                                      NaN  \n",
       "1                                      NaN  \n",
       "2                                      NaN  \n",
       "3                                      NaN  \n",
       "4                                      NaN  \n",
       "\n",
       "[5 rows x 46 columns]"
      ]
     },
     "execution_count": 9,
     "metadata": {},
     "output_type": "execute_result"
    }
   ],
   "source": [
    "df_v.head()"
   ]
  },
  {
   "cell_type": "markdown",
   "metadata": {},
   "source": [
    "### Meta Data Exploration -- Examining the Schema \n",
    "\n",
    "Here I am reviewing the datatypes and noting\n",
    "any instances of missing data. I will also investigate data dimensions and adjust datatypes when appropriate."
   ]
  },
  {
   "cell_type": "code",
   "execution_count": null,
   "metadata": {
    "execution": {
     "iopub.execute_input": "2023-09-08T14:20:12.150597Z",
     "iopub.status.busy": "2023-09-08T14:20:12.150060Z",
     "iopub.status.idle": "2023-09-08T14:20:12.941486Z",
     "shell.execute_reply": "2023-09-08T14:20:12.940202Z",
     "shell.execute_reply.started": "2023-09-08T14:20:12.150551Z"
    }
   },
   "outputs": [],
   "source": [
    "df_d.info()\n",
    "df_d.describe()"
   ]
  },
  {
   "cell_type": "code",
   "execution_count": null,
   "metadata": {
    "execution": {
     "iopub.execute_input": "2023-09-08T14:20:12.945084Z",
     "iopub.status.busy": "2023-09-08T14:20:12.944694Z",
     "iopub.status.idle": "2023-09-08T14:20:14.100709Z",
     "shell.execute_reply": "2023-09-08T14:20:14.099629Z",
     "shell.execute_reply.started": "2023-09-08T14:20:12.945053Z"
    }
   },
   "outputs": [],
   "source": [
    "df_v.info()\n",
    "df_v.describe()"
   ]
  },
  {
   "cell_type": "markdown",
   "metadata": {},
   "source": [
    "Here are dimensions (rows, columns) of two data sets:"
   ]
  },
  {
   "cell_type": "code",
   "execution_count": null,
   "metadata": {
    "execution": {
     "iopub.execute_input": "2023-09-08T14:20:14.103219Z",
     "iopub.status.busy": "2023-09-08T14:20:14.102034Z",
     "iopub.status.idle": "2023-09-08T14:20:14.113015Z",
     "shell.execute_reply": "2023-09-08T14:20:14.111702Z",
     "shell.execute_reply.started": "2023-09-08T14:20:14.103178Z"
    }
   },
   "outputs": [],
   "source": [
    "display(df_d.shape)\n",
    "display(df_v.shape)"
   ]
  },
  {
   "cell_type": "markdown",
   "metadata": {},
   "source": [
    "Changing datatypes to string and datetime for both datasets:"
   ]
  },
  {
   "cell_type": "code",
   "execution_count": null,
   "metadata": {
    "execution": {
     "iopub.execute_input": "2023-09-08T14:20:14.115955Z",
     "iopub.status.busy": "2023-09-08T14:20:14.115090Z",
     "iopub.status.idle": "2023-09-08T14:20:14.591209Z",
     "shell.execute_reply": "2023-09-08T14:20:14.589756Z",
     "shell.execute_reply.started": "2023-09-08T14:20:14.115901Z"
    }
   },
   "outputs": [],
   "source": [
    "#vaccine data set\n",
    "df_v_columns = ['iso_code', 'continent','location','tests_units']\n",
    "df_v[df_v_columns] = df_v[df_v_columns].astype('string')\n",
    "print(df_v.dtypes)\n",
    "df_v_datetime = ['date']\n",
    "df_v[df_v_datetime]=df_v[df_v_datetime].apply(pd.to_datetime)\n",
    "display(df_v.dtypes)\n",
    "\n",
    "#death data set \n",
    "\n",
    "df_d_columns = ['iso_code', 'continent','location']\n",
    "df_d[df_d_columns] = df_d[df_d_columns].astype('string')\n",
    "print(df_d.dtypes)\n",
    "df_d_datetime = ['date']\n",
    "df_d[df_d_datetime]=df_d[df_d_datetime].apply(pd.to_datetime)\n",
    "display(df_d.dtypes)\n",
    "\n"
   ]
  },
  {
   "cell_type": "markdown",
   "metadata": {},
   "source": [
    "Joining the two dataset tables. "
   ]
  },
  {
   "cell_type": "code",
   "execution_count": null,
   "metadata": {
    "execution": {
     "iopub.execute_input": "2023-09-08T14:20:14.593685Z",
     "iopub.status.busy": "2023-09-08T14:20:14.593162Z",
     "iopub.status.idle": "2023-09-08T14:20:15.370068Z",
     "shell.execute_reply": "2023-09-08T14:20:15.368748Z",
     "shell.execute_reply.started": "2023-09-08T14:20:14.593648Z"
    },
    "scrolled": true
   },
   "outputs": [],
   "source": [
    "d_v_tables = pd.merge(df_d, df_v, on=['location','date'],how ='inner')\n",
    "display(d_v_tables)"
   ]
  },
  {
   "cell_type": "code",
   "execution_count": null,
   "metadata": {
    "execution": {
     "iopub.execute_input": "2023-09-08T14:20:15.372580Z",
     "iopub.status.busy": "2023-09-08T14:20:15.371855Z",
     "iopub.status.idle": "2023-09-08T14:20:15.510954Z",
     "shell.execute_reply": "2023-09-08T14:20:15.509869Z",
     "shell.execute_reply.started": "2023-09-08T14:20:15.372538Z"
    }
   },
   "outputs": [],
   "source": [
    "display(d_v_tables)"
   ]
  },
  {
   "cell_type": "markdown",
   "metadata": {},
   "source": [
    "### Count of New Covid-19 Deaths by Month:"
   ]
  },
  {
   "cell_type": "code",
   "execution_count": null,
   "metadata": {
    "execution": {
     "iopub.execute_input": "2023-09-08T14:20:15.513267Z",
     "iopub.status.busy": "2023-09-08T14:20:15.512601Z",
     "iopub.status.idle": "2023-09-08T14:20:27.055980Z",
     "shell.execute_reply": "2023-09-08T14:20:27.054683Z",
     "shell.execute_reply.started": "2023-09-08T14:20:15.513225Z"
    }
   },
   "outputs": [],
   "source": [
    "d_v_tables['month'] = d_v_tables['date'].dt.strftime('%b %Y')\n",
    "sns.set(style='whitegrid')\n",
    "plt.figure(figsize=(10,6))\n",
    "ax=sns.barplot(x='month',y='new_deaths',data=d_v_tables,palette='Set2')\n",
    "plt.xticks(rotation=45,ha='right')\n",
    "ax.set_xticklabels(ax.get_xticklabels(), fontdict={'fontsize': 8, 'fontweight': 'normal'})\n",
    "plt.subplots_adjust(bottom=0.2)"
   ]
  },
  {
   "cell_type": "markdown",
   "metadata": {},
   "source": [
    "### Count of New Covid-19 Cases by Month:"
   ]
  },
  {
   "cell_type": "code",
   "execution_count": null,
   "metadata": {
    "execution": {
     "iopub.execute_input": "2023-09-08T14:20:27.057583Z",
     "iopub.status.busy": "2023-09-08T14:20:27.057174Z",
     "iopub.status.idle": "2023-09-08T14:20:35.818295Z",
     "shell.execute_reply": "2023-09-08T14:20:35.817163Z",
     "shell.execute_reply.started": "2023-09-08T14:20:27.057549Z"
    }
   },
   "outputs": [],
   "source": [
    " \n",
    "d_v_tables.dropna(subset=['new_cases'],inplace=True)\n",
    "\n",
    "d_v_tables['new_cases']=pd.to_numeric(d_v_tables['new_cases'])\n",
    "d_v_tables['month']=d_v_tables['date'].dt.strftime('%b %Y')\n",
    "\n",
    "sns.set(style='whitegrid')\n",
    "plt.figure(figsize=(12,8))\n",
    "ax=sns.barplot(x='month',y='new_cases',data=d_v_tables,palette='Set2')\n",
    "plt.xticks(rotation=45,ha='right')\n",
    "ax.set_xticklabels(ax.get_xticklabels(),fontdict={'fontsize':6,'fontweight': 'normal'})\n",
    "plt.subplots_adjust(bottom=.3)\n",
    "plt.show()"
   ]
  },
  {
   "cell_type": "markdown",
   "metadata": {},
   "source": [
    "### Percentage of New Cases By Continent:"
   ]
  },
  {
   "cell_type": "code",
   "execution_count": null,
   "metadata": {
    "execution": {
     "iopub.execute_input": "2023-09-08T14:20:35.821054Z",
     "iopub.status.busy": "2023-09-08T14:20:35.819933Z",
     "iopub.status.idle": "2023-09-08T14:20:36.450371Z",
     "shell.execute_reply": "2023-09-08T14:20:36.448831Z",
     "shell.execute_reply.started": "2023-09-08T14:20:35.820995Z"
    }
   },
   "outputs": [],
   "source": [
    "continent_cases_sum = d_v_tables.groupby('continent_x')['new_cases'].sum().reset_index()\n",
    "total_cases = continent_cases_sum['new_cases'].sum()\n",
    "continent_cases_sum['percentage_cases'] = (continent_cases_sum['new_cases'] / total_cases) * 100\n",
    "sns.set(style='whitegrid')\n",
    "plt.figure(figsize=(10, 6))\n",
    "ax = sns.barplot(x='continent_x', y='percentage_cases', data=continent_cases_sum, color='blue')\n",
    "ax.set_xlabel('Continent')\n",
    "ax.set_ylabel('Percentage of New Cases by Continent')\n",
    "ax.set_title('Percentage of COVID-19 New Cases by Continent')\n",
    "plt.xticks(rotation=45)\n",
    "ax.yaxis.set_major_formatter(mticker.PercentFormatter(decimals=2))\n",
    "plt.tight_layout()\n",
    "plt.show()"
   ]
  },
  {
   "cell_type": "markdown",
   "metadata": {},
   "source": [
    "### Percentage New Deaths By Continent:"
   ]
  },
  {
   "cell_type": "code",
   "execution_count": null,
   "metadata": {
    "execution": {
     "iopub.execute_input": "2023-09-08T14:20:36.453691Z",
     "iopub.status.busy": "2023-09-08T14:20:36.452592Z",
     "iopub.status.idle": "2023-09-08T14:20:37.070115Z",
     "shell.execute_reply": "2023-09-08T14:20:37.068550Z",
     "shell.execute_reply.started": "2023-09-08T14:20:36.453633Z"
    },
    "scrolled": true
   },
   "outputs": [],
   "source": [
    "\n",
    "total_deaths = d_v_tables['new_deaths'].sum()\n",
    "continent_deaths_sum = d_v_tables.groupby('continent_x')['new_deaths'].sum().reset_index()\n",
    "\n",
    "continent_deaths_sum['percentage_deaths'] = (continent_deaths_sum['new_deaths'] / total_deaths) * 100\n",
    "plt.figure(figsize=(10, 6))\n",
    "ax = sns.barplot(x='continent_x', y='percentage_deaths', data=continent_deaths_sum, color='red')\n",
    "ax.set_xlabel('Continent')\n",
    "ax.set_ylabel('Percentage of New Deaths by Continent')\n",
    "ax.set_title('Percentage of COVID-19 New Deaths by Continent')\n",
    "plt.xticks(rotation=45)\n",
    "ax.yaxis.set_major_formatter(mticker.PercentFormatter(decimals=2))\n",
    "plt.tight_layout()\n",
    "plt.show()"
   ]
  },
  {
   "cell_type": "markdown",
   "metadata": {},
   "source": [
    "### Trends of People Fully Vaccinated in the United States, India, France and South Korea:"
   ]
  },
  {
   "cell_type": "code",
   "execution_count": null,
   "metadata": {
    "execution": {
     "iopub.execute_input": "2023-09-08T14:20:46.014492Z",
     "iopub.status.busy": "2023-09-08T14:20:46.013979Z",
     "iopub.status.idle": "2023-09-08T14:20:48.050060Z",
     "shell.execute_reply": "2023-09-08T14:20:48.048624Z",
     "shell.execute_reply.started": "2023-09-08T14:20:46.014457Z"
    }
   },
   "outputs": [],
   "source": [
    "desired_locations = ['France', 'United States', 'India', 'South Korea']\n",
    "\n",
    "plt.figure(figsize=(10, 6))\n",
    "\n",
    "\n",
    "for desired_location in desired_locations:\n",
    "    current_population = d_v_tables.loc[d_v_tables['location'] == desired_location, 'population'].values[0]\n",
    "    filtered_data = d_v_tables[(d_v_tables['location'] == desired_location) & (d_v_tables['people_fully_vaccinated'] != '')].copy()\n",
    "    filtered_data['rnk'] = filtered_data.groupby(['location', 'month'])['people_fully_vaccinated'].rank(method='max', ascending=False)\n",
    "    ranked_data = filtered_data[(filtered_data['rnk'] == 1) & (filtered_data['location'] == desired_location)].copy()\n",
    "    percentage_fully_vaccinated = (ranked_data['people_fully_vaccinated'].astype(int) / current_population) * 100\n",
    "    ranked_data['percentage_fully_vaccinated'] = percentage_fully_vaccinated\n",
    "    ranked_data['date'] = pd.to_datetime(ranked_data['month'], format='%b %Y')\n",
    "    ranked_data = ranked_data.sort_values(by='date')\n",
    "    \n",
    "    plt.plot(ranked_data['month'], ranked_data['percentage_fully_vaccinated'],marker='o', label=desired_location)\n",
    "\n",
    "plt.xlabel('Month')\n",
    "plt.ylabel('Percentage of People Fully Vaccinated (%)')\n",
    "plt.title('Percentage of People Fully Vaccinated Over Time')\n",
    "plt.xticks(rotation=45)\n",
    "plt.gca().yaxis.set_major_formatter(mticker.ScalarFormatter(useMathText=True, useOffset=False))\n",
    "plt.legend()  \n",
    "\n",
    "plt.tight_layout()\n",
    "plt.show()"
   ]
  },
  {
   "cell_type": "markdown",
   "metadata": {},
   "source": [
    "### Visualization of Vaccine Distribution Over Time Across Continents with a Stacked Area Chart: "
   ]
  },
  {
   "cell_type": "code",
   "execution_count": null,
   "metadata": {
    "execution": {
     "iopub.status.busy": "2023-09-08T14:20:37.090894Z",
     "iopub.status.idle": "2023-09-08T14:20:37.091954Z",
     "shell.execute_reply": "2023-09-08T14:20:37.091676Z",
     "shell.execute_reply.started": "2023-09-08T14:20:37.091642Z"
    }
   },
   "outputs": [],
   "source": [
    "vaccination_data = d_v_tables.groupby(['date','continent_x'])['new_vaccinations'].sum().reset_index()\n",
    "pivot_vaccination_data=vaccination_data.pivot(index='date', columns='continent_x',values='new_vaccinations')\n",
    "plt.figure(figsize=(10,6))\n",
    "pivot_vaccination_data.plot(kind='line',linewidth=1)\n",
    "plt.xlabel('Date')\n",
    "plt.ylabel('Number of New Vaccinations')\n",
    "plt.title('Distribution of New Vaccinations Over Time By Continent')\n",
    "plt.legend()\n",
    "plt.tight_layout()\n",
    "plt.xticks(rotation=45)\n",
    "plt.show()"
   ]
  },
  {
   "cell_type": "markdown",
   "metadata": {},
   "source": [
    "### SIGNIFICANT FINDINGS\n",
    "\n",
    "Through the successful completion of this project, I gained valuable insights into the global and country-specific effects of Covid-19. These insights were achieved through exploratory data analysis and visualization techniques, allowing for a thorough examination of data distributions and the identification of correlations among various Covid-19 variables."
   ]
  },
  {
   "cell_type": "markdown",
   "metadata": {},
   "source": [
    "### Summaries of Discoveries \n",
    "* **Deaths per Month:** The data indicates that the highest number of monthly deaths occurred in January 2021, prior to widespread vaccine distribution.\n",
    "* **Cases per Month:** The early part of 2022 saw the highest number of newly recorded cases, with January registering 50,000 cases worldwide.\n",
    "* **New Vaccinations Count:** Between May 2021 and December 2021, the majority of global vaccinations were administered, ranging from 1,000,000 to 1,600,000 vaccinations.\n",
    "* **Percentage of Cases By Contintent** Asia reported the highest percentage of Covid-19 cases among all continents, which can be attributed to its dense population.\n",
    "* **Percentage of Deaths By Continent** Europe experienced more Covid-19 deaths than Asia. Asia's success in suppressing the virus was attributed to effective non-pharmaceutical interventions, including quarantines, mask use, physical distancing, and widespread testing, as highlighted in the article titled 'Reasons for Asia-Pacific Success in Suppressing Covid-19' from the World Happiness Report.\n",
    "* **Comparing Vaccinations in US, France, India and South Korea:** France witnessed a surge in vaccinations from April to September 2021. In the US, vaccination rates declined starting in May 2021. India's vaccination rates continued until January 2022 and then stabilized. South Korea initiated vaccinations in the summer of 2021, with a sharp rise, eventually reaching approximately 90% full vaccination by December 2021.\n",
    "* **Vaccinations By Continent:** Most continents commenced mass vaccinations from July 2021 to January 2022. The US initiated vaccinations in January 2021."
   ]
  }
 ],
 "metadata": {
  "kernelspec": {
   "display_name": "Python 3 (ipykernel)",
   "language": "python",
   "name": "python3"
  },
  "language_info": {
   "codemirror_mode": {
    "name": "ipython",
    "version": 3
   },
   "file_extension": ".py",
   "mimetype": "text/x-python",
   "name": "python",
   "nbconvert_exporter": "python",
   "pygments_lexer": "ipython3",
   "version": "3.11.5"
  }
 },
 "nbformat": 4,
 "nbformat_minor": 4
}
